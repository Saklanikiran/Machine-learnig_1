{
 "cells": [
  {
   "cell_type": "markdown",
   "id": "e7fc7543-ed5d-4969-aa58-283e0f35debf",
   "metadata": {},
   "source": [
    "### Ans : 1"
   ]
  },
  {
   "cell_type": "code",
   "execution_count": null,
   "id": "755f3b60-2720-4b40-8043-ec8ecfe9a12f",
   "metadata": {},
   "outputs": [],
   "source": [
    " ### 1. Artificial intelligence : \n",
    "    \n",
    "'''\n",
    "    Artificial Intelligence is a method of making a computer, a computer-controlled robot, \n",
    "    or a software think intelligently like the human mind. AI is accomplished by studying the patterns\n",
    "    of the human brain and by analyzing the cognitive process. The outcome of these studies develops\n",
    "    intelligent software and systems.\n",
    "    \n",
    "    Example of AI : chatgpt, self driving car , alexa etc.\n",
    "    \n",
    "'''\n",
    "    \n",
    "# 2. Machine learning :\n",
    "\n",
    " '''\n",
    "    Machine learning is a branch of artificial intelligence (AI) and computer science which focuses on \n",
    "    the use of data and algorithms to imitate the way that humans learn, gradually improving its accuracy.\n",
    "    3 types of machine learning :\n",
    "                        > Supervised learning\n",
    "                           -> Example : Speech recognition\n",
    "                        > Unsupervised learning\n",
    "                           -> Example : Delivery store optimization\n",
    "                        > Reinforcement learning\n",
    "                           -> Example : Online recommendation\n",
    "                           \n",
    "'''\n",
    "    \n",
    "# 3. Deep learning :\n",
    "\n",
    "'''\n",
    "    \n",
    "    Deep learning is a method in artificial intelligence (AI) that teaches computers to process data in\n",
    "    a way that is inspired by the human brain. Deep learning models can recognize complex patterns \n",
    "    in pictures, text, sounds, and other data to produce accurate insights and predictions.\n",
    "    \n",
    "    Example : Aerospace and Defense\n",
    "    \n",
    "'''\n",
    "    "
   ]
  },
  {
   "cell_type": "markdown",
   "id": "557859bf-4215-4703-a4fb-f13aad8bc5d1",
   "metadata": {},
   "source": [
    "### Ans : 2"
   ]
  },
  {
   "cell_type": "code",
   "execution_count": null,
   "id": "229d749b-c631-433c-8bd7-f33b3d0a06e6",
   "metadata": {},
   "outputs": [],
   "source": [
    "### Supervised learning :\n",
    "'''\n",
    "     Supervised learning is the types of machine learning in which machines are trained using well \"labelled\" \n",
    "     training data, and on basis of that data, machines predict the output. The labelled data means some input\n",
    "     data is already tagged with the correct output.\n",
    "     \n",
    "     Types of supervised learning :\n",
    "         1. Classification\n",
    "         2. Regression\n",
    "        \n",
    "    1. Classification : Classification algorithms are used when the output variable is categorical,\n",
    "                        which means there are two classes such as Yes-No, Male-Female, True-false, etc.\n",
    "        \n",
    "                        Example of classification : spam filter, fraud detection system\n",
    "    \n",
    "    2. Regression : Regression algorithms are used if there is a relationship between the input variable \n",
    "                    and the output variable.It is used for the prediction of continuous variables, \n",
    "                    such as Weather forecasting, Market Trends, etc.\n",
    "        \n",
    "                    Example of regression : predict the price of a house based on its size, location \n",
    "                                            and other features.\n",
    "'''"
   ]
  },
  {
   "cell_type": "markdown",
   "id": "7abc13d2-6f8f-4fa6-9709-bfeb8aa2da57",
   "metadata": {},
   "source": [
    "### Ans : 3"
   ]
  },
  {
   "cell_type": "code",
   "execution_count": null,
   "id": "604ee931-bda8-4552-a979-7054e0b43d73",
   "metadata": {},
   "outputs": [],
   "source": [
    "### Unsupervised learning :\n",
    "'''\n",
    "     Unsupervised learning is a type of machine learning in which models are trained using unlabeled \n",
    "     dataset and are allowed to act on that data without any supervision.\n",
    "     \n",
    "     Types of unsupervised learning :\n",
    "          1. Clustering\n",
    "          2. Association\n",
    "        \n",
    "       Clustering : Clustering is a method of grouping the objects into clusters such that objects with \n",
    "                   most similarities remains into a group and has less or no similarities with the objects\n",
    "                   of another group.\n",
    "                   -> Example : if you feed large number of pictures of various animals, the \n",
    "                                clustering algorithm will group them into various clusters such as cats, dogs etc.\n",
    "                   \n",
    "        Association : Association rule learning is a kind of unsupervised learning technique that tests for the \n",
    "                      reliance of one data element on another data element and design appropriately so that it can\n",
    "                      be more cost-effective.\n",
    "                      -> Example : A customer goes to a supermarket and buy bread, milk and rice. another customer comes and \n",
    "                                  buys bread, milk, rice and butter. Now, when another customer comes it is higly likely\n",
    "                                  that if he buys bread, he will buy milk too.\n",
    "    '''"
   ]
  },
  {
   "cell_type": "code",
   "execution_count": null,
   "id": "6efa5bf6-872c-4a46-8c14-5ef4703db14e",
   "metadata": {},
   "outputs": [],
   "source": [
    "### Ans : 4"
   ]
  },
  {
   "cell_type": "code",
   "execution_count": null,
   "id": "e20316c2-a6e0-4c47-b1cf-d3b9b3517429",
   "metadata": {},
   "outputs": [],
   "source": [
    "### Difference between AI, ML, DP and DS :\n",
    "'''\n",
    "    Arificial intelligence :\n",
    "        -> AI refers to the development of computer systems that can perform tasks that typically require human intelligence. \n",
    "        -> AI covers a broad spectrum of capabilities, from understanding natural language to recognizing patterns\n",
    "           in data to problem-solving. AI encompasses various techniques, including machine learning and deep learning.\n",
    "       \n",
    "    Machine learning :\n",
    "        -> Machine learning is a subset of AI that involves giving computers the ability to learn from data and\n",
    "           improve their performance without being explicitly programmed.\n",
    "        -> ML uses algorithms and statistical models to enable systems to\n",
    "           progressively improve their performance on a specific task as they are exposed to more data.\n",
    "           \n",
    "    Deep learning : \n",
    "        -> Deep learning is a specific subfield of machine learning that uses neural networks with \n",
    "          many layers to model and process data. \n",
    "        -> DP is exceptionally good at identifying patterns in large amounts of data. \n",
    "          Deep learning has been extremely successful in tasks like image and speech recognition.\n",
    "          \n",
    "    Data structure :\n",
    "        ->  Data structures refer to the way data is organized, stored, and manipulated\n",
    "            in a computer so that it can be used effectively. \n",
    "        ->  DS provide a means to manage and organize data for efficient access and modification\n",
    "'''"
   ]
  },
  {
   "cell_type": "markdown",
   "id": "535e9e23-8c89-4e17-b219-8dc785486f5b",
   "metadata": {},
   "source": [
    "### Ans : 5"
   ]
  },
  {
   "cell_type": "code",
   "execution_count": null,
   "id": "af198298-da52-4ba6-ac41-f0abd9ef0a20",
   "metadata": {},
   "outputs": [],
   "source": [
    "### Difference between supervised, unsupervised and semi-supervised learning :\n",
    "'''\n",
    "    Supervised learning :\n",
    "         > Supervised learning involves training a model on a labeled dataset, where each input\n",
    "            data is paired with the correct output. The algorithm learns to map the input data to the output labels.\n",
    "         > It uses labeled data to make predictions or classifications by learning from example inputs and their corresponding\n",
    "            correct outputs. The model tries to find patterns and relationships to predict the output for new, unseen data.\n",
    "         > Examples: Classification and regression problems, such as image recognition, spam detection,\n",
    "             and predicting housing prices.\n",
    "             \n",
    "    Unsupervised learning :\n",
    "         >  Unsupervised learning involves training a model on an unlabeled dataset, \n",
    "             where the algorithm explores the data to find patterns, structures, or relationships without specific guidance.\n",
    "        >  It aims to uncover hidden patterns or intrinsic structures in the data, often through\n",
    "            techniques like clustering, dimensionality reduction, or association mining.\n",
    "        >  Examples: Clustering similar documents, market segmentation, anomaly detection.\n",
    "        \n",
    "    Semi-Supervised learning :\n",
    "        >  Semi-supervised learning combines elements of both supervised and unsupervised learning. \n",
    "           It involves training a model on a dataset that is partially labeled and partially unlabeled.\n",
    "        >  It leverages the small amount of labeled data and a more extensive amount of unlabeled data to improve learning accuracy.\n",
    "           This approach utilizes both labeled information and the underlying structure of the unlabeled data.\n",
    "        >  Examples: Utilizing a small labeled dataset along with a large amount of unlabeled data, \n",
    "           often seen in scenarios where labeling data is expensive or time-consuming.\n",
    "'''"
   ]
  },
  {
   "cell_type": "markdown",
   "id": "6541eace-9aa5-46ec-bf2e-1e8790a526b6",
   "metadata": {},
   "source": [
    "### Ans : 6"
   ]
  },
  {
   "cell_type": "code",
   "execution_count": null,
   "id": "a3df9a29-d5a0-41d5-9032-23ad00436739",
   "metadata": {},
   "outputs": [],
   "source": [
    "### Train, Test and validation split :\n",
    "'''\n",
    "    Traning data :\n",
    "        > The training data is the portion of the dataset used to train the machine learning model.\n",
    "          It consists of examples or instances with both input features and their corresponding output labels.\n",
    "        > The model learns patterns and relationships from the training data, adjusting its parameters through \n",
    "          an optimization process to minimize the difference between predicted and actual output. A well-trained \n",
    "          model generalizes well on new, unseen data.\n",
    "          \n",
    "          -> Importance of traning data : Provides the foundation for the model to learn and make predictions.\n",
    "             A diverse and representative training dataset is crucial for the model to generalize well.\n",
    "        \n",
    "    Test data :\n",
    "        > The testing data is a separate portion of the dataset used to evaluate the trained model's performance.\n",
    "          It's unseen data that the model hasn’t been exposed to during training.\n",
    "        > The testing data helps assess how well the model generalizes to new, unseen instances. By making predictions\n",
    "           on the test data and comparing them to the actual values, you can estimate the model's performance and\n",
    "           how well it might perform on real-world data.\n",
    "           \n",
    "           -> Importance of test data : Helps to assess the model's performance and generalization ability on new, \n",
    "               unseen data, providing an estimate of how the model might perform in the real world.\n",
    "               \n",
    "    Validation data :\n",
    "        > The validation data is an additional dataset, often used in the model development \n",
    "           phase to fine-tune hyperparameters and prevent overfitting.\n",
    "        > It helps in model selection and hyperparameter tuning. Models are trained on the training set,\n",
    "          and their performance is evaluated on the validation set. This process guides adjustments to the model\n",
    "          and its parameters to enhance performance before final evaluation on the test set.\n",
    "          \n",
    "          -> Importance of validation data : Assists in optimizing the model's hyperparameters, preventing overfitting,\n",
    "             and ensuring better generalization by allowing adjustments based on performance in an independent dataset.\n",
    "'''\n",
    "          "
   ]
  },
  {
   "cell_type": "markdown",
   "id": "e53d5d44-b9e1-4658-8955-7ef4d26676de",
   "metadata": {},
   "source": [
    "### Ans : 7"
   ]
  },
  {
   "cell_type": "code",
   "execution_count": null,
   "id": "e4cc6ef3-0a1a-4993-97c0-c686db5fdff5",
   "metadata": {},
   "outputs": [],
   "source": [
    "'''\n",
    "    \n",
    "    Unsupervised learning plays a significant role in anomaly detection due to its ability to identify patterns\n",
    "    or structures in data without explicit guidance or labeled examples of anomalies.\n",
    "    \n",
    "    Unsupervised learning is valuable in anomaly detection because it does not rely on labeled examples of anomalies. \n",
    "    Instead, it identifies deviations from normal patterns or structures in the data. However, it's essential to combine \n",
    "    these methods with domain knowledge and validation by experts to ensure accurate anomaly detection and minimize false\n",
    "    positives.\n",
    "'''"
   ]
  },
  {
   "cell_type": "markdown",
   "id": "0b2aa52e-6b73-476d-b538-19d32acd493a",
   "metadata": {},
   "source": [
    "### Ans : 8"
   ]
  },
  {
   "cell_type": "markdown",
   "id": "9014ab0c-ecd4-4681-b530-63d076240840",
   "metadata": {},
   "source": [
    "# Supervised learning :\n",
    "'''\n",
    "    > Decision tree\n",
    "    > Ramdom forest\n",
    "    > Naive bayes\n",
    "    > Logistic regression\n",
    "    > Linear regression\n",
    "    > Polynomial regression\n",
    "'''\n",
    "\n",
    "# Unsupervised learning :\n",
    "'''\n",
    "    > K-means\n",
    "    > Hierarichical clustering\n",
    "    > Linear Discriminant Analysis\n",
    "    > One-Class SVM\n",
    "'''"
   ]
  },
  {
   "cell_type": "code",
   "execution_count": null,
   "id": "4e408d7c-9e39-45ee-a6b3-b010423cdafa",
   "metadata": {},
   "outputs": [],
   "source": []
  }
 ],
 "metadata": {
  "kernelspec": {
   "display_name": "Python 3 (ipykernel)",
   "language": "python",
   "name": "python3"
  },
  "language_info": {
   "codemirror_mode": {
    "name": "ipython",
    "version": 3
   },
   "file_extension": ".py",
   "mimetype": "text/x-python",
   "name": "python",
   "nbconvert_exporter": "python",
   "pygments_lexer": "ipython3",
   "version": "3.10.8"
  }
 },
 "nbformat": 4,
 "nbformat_minor": 5
}
